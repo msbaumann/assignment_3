{
 "cells": [
  {
   "cell_type": "code",
   "execution_count": 135,
   "metadata": {
    "collapsed": false
   },
   "outputs": [
    {
     "name": "stdout",
     "output_type": "stream",
     "text": [
      "super\n",
      "ice\n",
      "us\n"
     ]
    }
   ],
   "source": [
    "word = \"supercalifragilisticexpialidocious\"\n",
    "print (word[0:5])        #printing the first 5 letters of the above word\n",
    "print (word[18:21])      #printing letters 18, 19 and 20 in the word, where counting of letters starts at 0\n",
    "print (word[-2:])        #printing the last two letters of the above word "
   ]
  },
  {
   "cell_type": "code",
   "execution_count": 136,
   "metadata": {
    "collapsed": true
   },
   "outputs": [],
   "source": [
    "even = [2,4,6,8,10]    #listing all even values between 1 and 10"
   ]
  },
  {
   "cell_type": "code",
   "execution_count": 128,
   "metadata": {
    "collapsed": false
   },
   "outputs": [
    {
     "name": "stdout",
     "output_type": "stream",
     "text": [
      "30\n"
     ]
    }
   ],
   "source": [
    "sum_of_values = 2+4+6+8+10      #Adding all values in the data set to obtain the sum of the values\n",
    "print(sum_of_values)"
   ]
  },
  {
   "cell_type": "code",
   "execution_count": 129,
   "metadata": {
    "collapsed": false
   },
   "outputs": [],
   "source": [
    "N = 5              #Defining N as the number of values in the data set"
   ]
  },
  {
   "cell_type": "code",
   "execution_count": 137,
   "metadata": {
    "collapsed": false
   },
   "outputs": [
    {
     "name": "stdout",
     "output_type": "stream",
     "text": [
      "6.0\n"
     ]
    }
   ],
   "source": [
    "mean = sum_of_values/N        #Dividing the sum of all values by the number of values to obtain the mean \n",
    "print (mean)"
   ]
  },
  {
   "cell_type": "code",
   "execution_count": 138,
   "metadata": {
    "collapsed": false
   },
   "outputs": [
    {
     "name": "stdout",
     "output_type": "stream",
     "text": [
      "16.0\n",
      "4.0\n",
      "0.0\n",
      "4.0\n",
      "16.0\n"
     ]
    }
   ],
   "source": [
    "for value in even:            # Created a loop which takes each value and substracts the mean and then squared this answer to work towards finding the standard deviation.  \n",
    "    value = (value - mean)**2\n",
    "    print(value)"
   ]
  },
  {
   "cell_type": "code",
   "execution_count": 131,
   "metadata": {
    "collapsed": false
   },
   "outputs": [
    {
     "name": "stdout",
     "output_type": "stream",
     "text": [
      "8.0\n"
     ]
    }
   ],
   "source": [
    "x1 = 16+4+0+4+16         # Calculated the mean of the values obtained from the loop above \n",
    "mean1 = x1/N\n",
    "print(mean1) "
   ]
  },
  {
   "cell_type": "code",
   "execution_count": 139,
   "metadata": {
    "collapsed": false
   },
   "outputs": [
    {
     "name": "stdout",
     "output_type": "stream",
     "text": [
      "2.8284271247461903\n"
     ]
    }
   ],
   "source": [
    "standard_deviation = 8**0.5         #Taking the square root of the mean to get standard deviation\n",
    "print (standard_deviation)"
   ]
  },
  {
   "cell_type": "code",
   "execution_count": 133,
   "metadata": {
    "collapsed": false
   },
   "outputs": [
    {
     "name": "stdout",
     "output_type": "stream",
     "text": [
      "1.2649110640673518\n"
     ]
    }
   ],
   "source": [
    "standard_error = standard_deviation/(N**0.5)        #Calculating standard error of the data set\n",
    "print (standard_error)"
   ]
  },
  {
   "cell_type": "code",
   "execution_count": 134,
   "metadata": {
    "collapsed": false
   },
   "outputs": [
    {
     "name": "stdout",
     "output_type": "stream",
     "text": [
      "Miriam Baumann\n"
     ]
    }
   ],
   "source": [
    "first = 'Miriam'         #creating a variable for my first and last name \n",
    "last = 'Baumann'\n",
    "print (first + ' ' + last)     # printing my first and last name adding a space in between "
   ]
  },
  {
   "cell_type": "code",
   "execution_count": null,
   "metadata": {
    "collapsed": true
   },
   "outputs": [],
   "source": []
  }
 ],
 "metadata": {
  "kernelspec": {
   "display_name": "Python 3",
   "language": "python",
   "name": "python3"
  },
  "language_info": {
   "codemirror_mode": {
    "name": "ipython",
    "version": 3
   },
   "file_extension": ".py",
   "mimetype": "text/x-python",
   "name": "python",
   "nbconvert_exporter": "python",
   "pygments_lexer": "ipython3",
   "version": "3.4.3"
  }
 },
 "nbformat": 4,
 "nbformat_minor": 0
}
